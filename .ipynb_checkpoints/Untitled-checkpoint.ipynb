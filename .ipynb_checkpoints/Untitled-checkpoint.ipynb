{
 "cells": [
  {
   "cell_type": "code",
   "execution_count": 1,
   "metadata": {
    "ExecuteTime": {
     "end_time": "2020-10-25T10:34:05.854921Z",
     "start_time": "2020-10-25T10:34:04.872911Z"
    }
   },
   "outputs": [],
   "source": [
    "import numpy as np\n",
    "import pandas as pd\n",
    "import re\n",
    "from numpy import log,min"
   ]
  },
  {
   "cell_type": "code",
   "execution_count": 2,
   "metadata": {
    "ExecuteTime": {
     "end_time": "2020-10-25T10:34:33.057591Z",
     "start_time": "2020-10-25T10:34:32.997598Z"
    }
   },
   "outputs": [],
   "source": [
    "f = open('./dataset/005.斗破苍穹.txt', 'r') #读取文章\n",
    "s = f.read() #读取为一个字符串"
   ]
  },
  {
   "cell_type": "code",
   "execution_count": 5,
   "metadata": {
    "ExecuteTime": {
     "end_time": "2020-10-25T10:34:50.204148Z",
     "start_time": "2020-10-25T10:34:50.047119Z"
    }
   },
   "outputs": [],
   "source": [
    "#定义要去掉的标点字\n",
    "drop_dict = [u'，', u'\\n', u'。', u'、', u'：', u'(', u')', u'[', u']', u'.', u',', u' ', u'\\u3000', u'”', u'“', u'？', u'?', u'！', u'‘', u'’', u'…']\n",
    "for i in drop_dict: #去掉标点字\n",
    "    s = s.replace(i, '')"
   ]
  },
  {
   "cell_type": "code",
   "execution_count": 6,
   "metadata": {
    "ExecuteTime": {
     "end_time": "2020-10-25T10:35:28.475999Z",
     "start_time": "2020-10-25T10:35:28.473012Z"
    }
   },
   "outputs": [],
   "source": [
    "#为了方便调用，自定义了一个正则表达式的词典\n",
    "myre = {2:'(..)', 3:'(...)', 4:'(....)', 5:'(.....)', 6:'(......)', 7:'(.......)'}"
   ]
  },
  {
   "cell_type": "code",
   "execution_count": 7,
   "metadata": {
    "ExecuteTime": {
     "end_time": "2020-10-25T10:35:35.921775Z",
     "start_time": "2020-10-25T10:35:35.918774Z"
    }
   },
   "outputs": [],
   "source": [
    "min_count = 10 #录取词语最小出现次数\n",
    "min_support = 30 #录取词语最低支持度，1代表着随机组合\n",
    "min_s = 3 #录取词语最低信息熵，越大说明越有可能独立成词\n",
    "max_sep = 4 #候选词语的最大字数\n",
    "t=[] #保存结果用,index为0的表示1字词，index为1的表示2字词"
   ]
  },
  {
   "cell_type": "code",
   "execution_count": 8,
   "metadata": {
    "ExecuteTime": {
     "end_time": "2020-10-25T10:39:29.185011Z",
     "start_time": "2020-10-25T10:39:28.404993Z"
    }
   },
   "outputs": [],
   "source": [
    "t.append(pd.Series(list(s)).value_counts()) #逐字统计\n",
    "tsum = t[0].sum() #统计总字数\n",
    "rt = [] #保存结果用"
   ]
  },
  {
   "cell_type": "code",
   "execution_count": null,
   "metadata": {},
   "outputs": [],
   "source": [
    "for m in range(2, max_sep+1):\n",
    "    print(u'正在生成%s字词...'%m)\n",
    "    t.append([])\n",
    "    for i in range(m): #生成所有可能的m字词\n",
    "        t[m-1] = t[m-1] + re.findall(myre[m], s[i:]) # 这里注意的是为什么用i的遍历，因为要错位生成所有的m字词，i是用于错位的\n",
    "    \n",
    "    t[m-1] = pd.Series(t[m-1]).value_counts() #逐词统计，注意是统计当前字词的次数\n",
    "    t[m-1] = t[m-1][t[m-1] > min_count] #最小次数筛选，这是利用了pandas的筛选方法， t[m-1] > min_count 输出的是一个 true or flase的列表\n",
    "    tt = t[m-1][:] # 复制列表\n",
    "    \n",
    "    for k in range(m-1):\n",
    "        qq = np.array(list(map(lambda ms: tsum*t[m-1][ms]/t[m-2-k][ms[:m-1-k]]/t[k][ms[m-1-k:]], tt.index))) > min_support #最小支持度筛选。\n",
    "        tt = tt[qq]\n",
    "    rt.append(tt.index)"
   ]
  },
  {
   "cell_type": "code",
   "execution_count": null,
   "metadata": {},
   "outputs": [],
   "source": [
    "\n",
    "\n",
    "\n",
    "\n",
    "\n",
    "\n",
    "\n",
    "\n",
    "def cal_S(sl): #信息熵计算函数\n",
    "    return -((sl/sl.sum()).apply(log)*sl/sl.sum()).sum()\n",
    "\n",
    "for i in range(2, max_sep+1):\n",
    "    print(u'正在进行%s字词的最大熵筛选(%s)...'%(i, len(rt[i-2])))\n",
    "    pp = [] #保存所有的左右邻结果\n",
    "    for j in range(i+2):\n",
    "        pp = pp + re.findall('(.)%s(.)'%myre[i], s[j:])\n",
    "    pp = pd.DataFrame(pp).set_index(1).sort_index() #先排序，这个很重要，可以加快检索速度\n",
    "    index = np.sort(np.intersect1d(rt[i-2], pp.index)) #作交集\n",
    "    #下面两句分别是左邻和右邻信息熵筛选\n",
    "    index = index[np.array(list(map(lambda s: cal_S(pd.Series(pp[0][s]).value_counts()), index))) > min_s]\n",
    "    rt[i-2] = index[np.array(list(map(lambda s: cal_S(pd.Series(pp[2][s]).value_counts()), index))) > min_s]\n",
    "\n",
    "#下面都是输出前处理\n",
    "for i in range(len(rt)):\n",
    "    t[i+1] = t[i+1][rt[i]]\n",
    "    t[i+1].sort(ascending = False)\n",
    "\n",
    "#保存结果并输出\n",
    "pd.DataFrame(pd.concat(t[1:])).to_csv('result.txt', header = False)"
   ]
  }
 ],
 "metadata": {
  "kernelspec": {
   "display_name": "Python 3",
   "language": "python",
   "name": "python3"
  },
  "language_info": {
   "codemirror_mode": {
    "name": "ipython",
    "version": 3
   },
   "file_extension": ".py",
   "mimetype": "text/x-python",
   "name": "python",
   "nbconvert_exporter": "python",
   "pygments_lexer": "ipython3",
   "version": "3.6.5"
  },
  "toc": {
   "base_numbering": 1,
   "nav_menu": {},
   "number_sections": true,
   "sideBar": true,
   "skip_h1_title": false,
   "title_cell": "Table of Contents",
   "title_sidebar": "Contents",
   "toc_cell": false,
   "toc_position": {},
   "toc_section_display": true,
   "toc_window_display": false
  }
 },
 "nbformat": 4,
 "nbformat_minor": 4
}
